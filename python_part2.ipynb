{
 "cells": [
  {
   "cell_type": "code",
   "execution_count": 1,
   "metadata": {},
   "outputs": [
    {
     "name": "stdout",
     "output_type": "stream",
     "text": [
      "-f23\n",
      "C:\\Users\\Hacker\\AppData\\Roaming\\jupyter\\runtime\\kernel-0967ec58-af1a-4223-88e1-5fc0594ed888.json32\n",
      "output is 55\n"
     ]
    }
   ],
   "source": [
    "import sys \n",
    "x= int(input(sys.argv[1]))\n",
    "y= int(input(sys.argv[2]))\n",
    "z=x+y\n",
    "print(\"output is\", z)\n"
   ]
  },
  {
   "cell_type": "code",
   "execution_count": 2,
   "metadata": {},
   "outputs": [
    {
     "ename": "TypeError",
     "evalue": "array() takes at least 1 argument (0 given)",
     "output_type": "error",
     "traceback": [
      "\u001b[1;31m---------------------------------------------------------------------------\u001b[0m",
      "\u001b[1;31mTypeError\u001b[0m                                 Traceback (most recent call last)",
      "\u001b[1;32m<ipython-input-2-db27acf54318>\u001b[0m in \u001b[0;36m<module>\u001b[1;34m\u001b[0m\n\u001b[0;32m      1\u001b[0m \u001b[1;32mimport\u001b[0m \u001b[0marray\u001b[0m \u001b[1;32mas\u001b[0m \u001b[0marr\u001b[0m\u001b[1;33m\u001b[0m\u001b[1;33m\u001b[0m\u001b[0m\n\u001b[1;32m----> 2\u001b[1;33m \u001b[0marr\u001b[0m\u001b[1;33m.\u001b[0m\u001b[0marray\u001b[0m\u001b[1;33m(\u001b[0m\u001b[1;33m)\u001b[0m\u001b[1;33m\u001b[0m\u001b[1;33m\u001b[0m\u001b[0m\n\u001b[0m",
      "\u001b[1;31mTypeError\u001b[0m: array() takes at least 1 argument (0 given)"
     ]
    }
   ],
   "source": [
    "import array as arr\n",
    "arr.array()\n"
   ]
  },
  {
   "cell_type": "code",
   "execution_count": 3,
   "metadata": {},
   "outputs": [
    {
     "name": "stdout",
     "output_type": "stream",
     "text": [
      "array('i', [5, 6, 3, 3, 2, 5])\n"
     ]
    }
   ],
   "source": [
    "from array import *\n",
    "value= array('i',[5,6,3,3,2,5])\n",
    "print (value)\n"
   ]
  },
  {
   "cell_type": "code",
   "execution_count": 4,
   "metadata": {},
   "outputs": [
    {
     "ename": "TypeError",
     "evalue": "integer argument expected, got float",
     "output_type": "error",
     "traceback": [
      "\u001b[1;31m---------------------------------------------------------------------------\u001b[0m",
      "\u001b[1;31mTypeError\u001b[0m                                 Traceback (most recent call last)",
      "\u001b[1;32m<ipython-input-4-4e63e2b9f983>\u001b[0m in \u001b[0;36m<module>\u001b[1;34m\u001b[0m\n\u001b[0;32m      1\u001b[0m \u001b[1;32mfrom\u001b[0m \u001b[0marray\u001b[0m \u001b[1;32mimport\u001b[0m \u001b[1;33m*\u001b[0m\u001b[1;33m\u001b[0m\u001b[1;33m\u001b[0m\u001b[0m\n\u001b[1;32m----> 2\u001b[1;33m \u001b[0mvalue\u001b[0m\u001b[1;33m=\u001b[0m \u001b[0marray\u001b[0m\u001b[1;33m(\u001b[0m\u001b[1;34m'i'\u001b[0m\u001b[1;33m,\u001b[0m\u001b[1;33m[\u001b[0m\u001b[1;36m5\u001b[0m\u001b[1;33m,\u001b[0m\u001b[1;36m6.5\u001b[0m\u001b[1;33m,\u001b[0m\u001b[1;36m3\u001b[0m\u001b[1;33m,\u001b[0m\u001b[1;36m3\u001b[0m\u001b[1;33m,\u001b[0m\u001b[1;36m2\u001b[0m\u001b[1;33m,\u001b[0m\u001b[1;36m5\u001b[0m\u001b[1;33m]\u001b[0m\u001b[1;33m)\u001b[0m\u001b[1;33m\u001b[0m\u001b[1;33m\u001b[0m\u001b[0m\n\u001b[0m\u001b[0;32m      3\u001b[0m \u001b[0mprint\u001b[0m \u001b[1;33m(\u001b[0m\u001b[0mvalue\u001b[0m\u001b[1;33m)\u001b[0m\u001b[1;33m\u001b[0m\u001b[1;33m\u001b[0m\u001b[0m\n",
      "\u001b[1;31mTypeError\u001b[0m: integer argument expected, got float"
     ]
    }
   ],
   "source": [
    "from array import *\n",
    "value= array('i',[5,6.5,3,3,2,5])\n",
    "print (value)"
   ]
  },
  {
   "cell_type": "code",
   "execution_count": 5,
   "metadata": {},
   "outputs": [
    {
     "name": "stdout",
     "output_type": "stream",
     "text": [
      "array('i', [6, 4, 2, 4, 5])\n"
     ]
    }
   ],
   "source": [
    "from array import *\n",
    "vals=array('i',[5,4,2,4,6])\n",
    "vals.reverse()\n",
    "print(vals)\n"
   ]
  },
  {
   "cell_type": "code",
   "execution_count": 7,
   "metadata": {},
   "outputs": [],
   "source": [
    "# floor=lowest integer value nearby\n",
    "# ceil= highest integer value near by"
   ]
  },
  {
   "cell_type": "code",
   "execution_count": 8,
   "metadata": {},
   "outputs": [],
   "source": [
    "#  ~ = tilde operator\n",
    "#   ^ = XOR\n",
    "#   <<= Left shift\n",
    "#   >>= Right shift"
   ]
  },
  {
   "cell_type": "code",
   "execution_count": 9,
   "metadata": {},
   "outputs": [
    {
     "name": "stdout",
     "output_type": "stream",
     "text": [
      "8\n"
     ]
    }
   ],
   "source": [
    "import math as m\n",
    "x=8.9\n",
    "x=m.floor(x)\n",
    "print(x)"
   ]
  },
  {
   "cell_type": "code",
   "execution_count": 10,
   "metadata": {},
   "outputs": [
    {
     "name": "stdout",
     "output_type": "stream",
     "text": [
      "9\n"
     ]
    }
   ],
   "source": [
    "import math as m\n",
    "x=8.9\n",
    "x=m.ceil(x)\n",
    "print(x)"
   ]
  },
  {
   "cell_type": "code",
   "execution_count": 11,
   "metadata": {},
   "outputs": [
    {
     "name": "stdout",
     "output_type": "stream",
     "text": [
      "array('i', [6, 4, 2, 4, 5])\n",
      "array('i', [6, 4, 2, 4, 5])\n",
      "6\n",
      "4\n",
      "2\n",
      "4\n",
      "5\n"
     ]
    }
   ],
   "source": [
    "from array import *\n",
    "vals=array('i',[5,4,2,4,6])\n",
    "vals.reverse()\n",
    "print(vals)\n",
    "newarr= array(vals.typecode, (a for a in vals))\n",
    "print(newarr)\n",
    "for e in vals:\n",
    "    print(e)"
   ]
  },
  {
   "cell_type": "code",
   "execution_count": 12,
   "metadata": {},
   "outputs": [
    {
     "name": "stdout",
     "output_type": "stream",
     "text": [
      "array('i', [6, 4, 2, 4, 5])\n",
      "array('i', [36, 16, 4, 16, 25])\n",
      "6\n",
      "4\n",
      "2\n",
      "4\n",
      "5\n"
     ]
    }
   ],
   "source": [
    "from array import *\n",
    "vals=array('i',[5,4,2,4,6])\n",
    "vals.reverse()\n",
    "print(vals)\n",
    "newarr= array(vals.typecode, (a*a for a in vals))\n",
    "print(newarr)\n",
    "for e in vals:\n",
    "    print(e)"
   ]
  },
  {
   "cell_type": "code",
   "execution_count": 13,
   "metadata": {},
   "outputs": [
    {
     "name": "stdout",
     "output_type": "stream",
     "text": [
      "Enter the length of an array4\n",
      "Enter the next value2\n",
      "Enter the next value3\n",
      "Enter the next value4\n",
      "Enter the next value5\n",
      "array('i', [2, 3, 4, 5])\n",
      "enter the value for search4\n",
      "2\n"
     ]
    }
   ],
   "source": [
    "# searching a value index from an array\n",
    "from math import *\n",
    "from array import *\n",
    "arr=array('i',[])\n",
    "n=int(input(\"Enter the length of an array\"))\n",
    "\n",
    "for i in range(n):\n",
    "    x= int(input(\"Enter the next value\"))\n",
    "    arr.append(x)\n",
    "\n",
    "print(arr)\n",
    "\n",
    "val= int(input(\"enter the value for search\"))\n",
    "\n",
    "k=0\n",
    "for y in arr:\n",
    "\n",
    "    if y==val:\n",
    "        print(k)\n",
    "        break\n",
    "        \n",
    "    k+=1    "
   ]
  },
  {
   "cell_type": "code",
   "execution_count": 14,
   "metadata": {},
   "outputs": [],
   "source": [
    "import numpy"
   ]
  },
  {
   "cell_type": "code",
   "execution_count": 15,
   "metadata": {},
   "outputs": [
    {
     "name": "stdout",
     "output_type": "stream",
     "text": [
      "[ 0.  1.  2.  3.  4.  5.  6.  7.  8.  9. 10. 11. 12. 13. 14. 15.]\n"
     ]
    }
   ],
   "source": [
    "from numpy import *\n",
    "arr = linspace(0,15,16)\n",
    "print(arr)"
   ]
  },
  {
   "cell_type": "code",
   "execution_count": 16,
   "metadata": {},
   "outputs": [
    {
     "name": "stdout",
     "output_type": "stream",
     "text": [
      "[1.e+00 1.e+01 1.e+02 1.e+03 1.e+04 1.e+05 1.e+06 1.e+07 1.e+08 1.e+09\n",
      " 1.e+10 1.e+11 1.e+12 1.e+13 1.e+14 1.e+15]\n"
     ]
    }
   ],
   "source": [
    "from numpy import *\n",
    "arr = logspace(0,15,16)\n",
    "print(arr)"
   ]
  },
  {
   "cell_type": "code",
   "execution_count": 17,
   "metadata": {},
   "outputs": [
    {
     "name": "stdout",
     "output_type": "stream",
     "text": [
      "[ 0 12]\n"
     ]
    }
   ],
   "source": [
    "from numpy import *\n",
    "arr = arange(0,15,12)\n",
    "print(arr)"
   ]
  },
  {
   "cell_type": "code",
   "execution_count": 18,
   "metadata": {},
   "outputs": [
    {
     "name": "stdout",
     "output_type": "stream",
     "text": [
      "[35 45 55 65]\n"
     ]
    }
   ],
   "source": [
    "from numpy import *\n",
    "arr= array([23,33,43,53])\n",
    "arr=arr+12\n",
    "print(arr)"
   ]
  },
  {
   "cell_type": "code",
   "execution_count": 19,
   "metadata": {},
   "outputs": [
    {
     "name": "stdout",
     "output_type": "stream",
     "text": [
      "[45 35 65 55]\n"
     ]
    }
   ],
   "source": [
    "from numpy import *\n",
    "arr1= array([34,22,44,24])\n",
    "arr2=array([11,13,21,31])\n",
    "arr3=arr1+arr2\n",
    "print(arr3)"
   ]
  },
  {
   "cell_type": "code",
   "execution_count": 20,
   "metadata": {},
   "outputs": [
    {
     "name": "stdout",
     "output_type": "stream",
     "text": [
      "200\n"
     ]
    }
   ],
   "source": [
    "from numpy import *\n",
    "arr1= array([34,22,44,24])\n",
    "arr2=array([11,13,21,31])\n",
    "arr3=arr1+arr2\n",
    "print(sum(arr3))"
   ]
  },
  {
   "cell_type": "code",
   "execution_count": 21,
   "metadata": {},
   "outputs": [
    {
     "name": "stdout",
     "output_type": "stream",
     "text": [
      "[34 22 44 24 11 13 21 31]\n"
     ]
    }
   ],
   "source": [
    "from numpy import *\n",
    "arr1= array([34,22,44,24])\n",
    "arr2=array([11,13,21,31])\n",
    "print(concatenate([arr1,arr2]))"
   ]
  },
  {
   "cell_type": "code",
   "execution_count": 22,
   "metadata": {},
   "outputs": [
    {
     "name": "stdout",
     "output_type": "stream",
     "text": [
      "[1 2 3 4 5 6]\n",
      "[1 2 3 4 5 6]\n",
      "2888472436128\n",
      "2888472433328\n"
     ]
    }
   ],
   "source": [
    "# shallow copy of an array\n",
    "from numpy import *\n",
    "arr1= array([1,2,3,4,5,6])\n",
    "arr2=arr1.view()\n",
    "print(arr1)\n",
    "print(arr2)\n",
    "print(id(arr1))\n",
    "print(id(arr2))"
   ]
  },
  {
   "cell_type": "code",
   "execution_count": 23,
   "metadata": {},
   "outputs": [
    {
     "name": "stdout",
     "output_type": "stream",
     "text": [
      "[1 2 3 4 5 6]\n",
      "[1 2 3 4 5 6]\n",
      "2888476670272\n",
      "2888476670912\n"
     ]
    }
   ],
   "source": [
    "# deep copy of an array\n",
    "from numpy import *\n",
    "arr1= array([1,2,3,4,5,6])\n",
    "arr2=arr1.copy()\n",
    "print(arr1)\n",
    "print(arr2)\n",
    "print(id(arr1))\n",
    "print(id(arr2))"
   ]
  },
  {
   "cell_type": "code",
   "execution_count": 24,
   "metadata": {},
   "outputs": [
    {
     "name": "stdout",
     "output_type": "stream",
     "text": [
      "[[1 2 3]\n",
      " [4 5 6]]\n"
     ]
    }
   ],
   "source": [
    "# multi-dimensional array\n",
    "from numpy import *\n",
    "arr1= array([\n",
    "                [1,2,3],\n",
    "                [4,5,6]\n",
    "            ])\n",
    "print(arr1)"
   ]
  },
  {
   "cell_type": "code",
   "execution_count": 25,
   "metadata": {},
   "outputs": [
    {
     "name": "stdout",
     "output_type": "stream",
     "text": [
      "2\n"
     ]
    }
   ],
   "source": [
    "# multi-dimensional array dimension\n",
    "from numpy import *\n",
    "arr1= array([\n",
    "                [1,2,3],\n",
    "                [4,5,6]\n",
    "            ])\n",
    "print(arr1.ndim)"
   ]
  },
  {
   "cell_type": "code",
   "execution_count": 26,
   "metadata": {},
   "outputs": [
    {
     "name": "stdout",
     "output_type": "stream",
     "text": [
      "(2, 3)\n"
     ]
    }
   ],
   "source": [
    "# multi-dimensional array shape\n",
    "from numpy import *\n",
    "arr1= array([\n",
    "                [1,2,3],\n",
    "                [4,5,6]\n",
    "            ])\n",
    "print(arr1.shape)"
   ]
  },
  {
   "cell_type": "code",
   "execution_count": 27,
   "metadata": {},
   "outputs": [
    {
     "name": "stdout",
     "output_type": "stream",
     "text": [
      "6\n"
     ]
    }
   ],
   "source": [
    "# multi-dimensional array size\n",
    "from numpy import *\n",
    "arr1= array([\n",
    "                [1,2,3],\n",
    "                [4,5,6]\n",
    "            ])\n",
    "print(arr1.size)"
   ]
  },
  {
   "cell_type": "code",
   "execution_count": 28,
   "metadata": {},
   "outputs": [
    {
     "name": "stdout",
     "output_type": "stream",
     "text": [
      "[1 2 3 4 5 6]\n"
     ]
    }
   ],
   "source": [
    "# multi-dimensional array to single dimensional\n",
    "from numpy import *\n",
    "arr1= array([\n",
    "                [1,2,3],\n",
    "                [4,5,6]\n",
    "            ])\n",
    "arr2= arr1.flatten()\n",
    "print(arr2)"
   ]
  },
  {
   "cell_type": "code",
   "execution_count": 29,
   "metadata": {},
   "outputs": [
    {
     "name": "stdout",
     "output_type": "stream",
     "text": [
      "[[[1 2 3]\n",
      "  [4 5 6]]\n",
      "\n",
      " [[4 5 6]\n",
      "  [7 8 9]]]\n"
     ]
    }
   ],
   "source": [
    "# multi-dimensional array to two dimensional 3D array\n",
    "from numpy import *\n",
    "arr1= array([\n",
    "                [1,2,3,4,5,6],\n",
    "                [4,5,6,7,8,9]\n",
    "            ])\n",
    "arr2= arr1.flatten()\n",
    "arr3= arr2.reshape(2,2,3)\n",
    "print(arr3)"
   ]
  },
  {
   "cell_type": "code",
   "execution_count": 30,
   "metadata": {},
   "outputs": [
    {
     "name": "stdout",
     "output_type": "stream",
     "text": [
      "[[1 2]\n",
      " [3 4]\n",
      " [5 6]\n",
      " [7 8]]\n"
     ]
    }
   ],
   "source": [
    "from numpy import *\n",
    "m= matrix('1 2; 3 4; 5 6; 7 8')\n",
    "print(m)"
   ]
  },
  {
   "cell_type": "code",
   "execution_count": 31,
   "metadata": {},
   "outputs": [
    {
     "name": "stdout",
     "output_type": "stream",
     "text": [
      "[1 5 9]\n"
     ]
    }
   ],
   "source": [
    "from numpy import *\n",
    "m= matrix('1 2 3; 4 5 6; 7 8 9')\n",
    "print(diagonal(m))"
   ]
  },
  {
   "cell_type": "code",
   "execution_count": 32,
   "metadata": {},
   "outputs": [
    {
     "name": "stdout",
     "output_type": "stream",
     "text": [
      "1\n"
     ]
    }
   ],
   "source": [
    "from numpy import *\n",
    "m= matrix('1 2 3; 4 5 6; 7 8 9')\n",
    "print(m.min())"
   ]
  },
  {
   "cell_type": "code",
   "execution_count": 33,
   "metadata": {},
   "outputs": [
    {
     "name": "stdout",
     "output_type": "stream",
     "text": [
      "9\n"
     ]
    }
   ],
   "source": [
    "from numpy import *\n",
    "m= matrix('1 2 3; 4 5 6; 7 8 9')\n",
    "print(m.max())"
   ]
  },
  {
   "cell_type": "code",
   "execution_count": 34,
   "metadata": {},
   "outputs": [
    {
     "name": "stdout",
     "output_type": "stream",
     "text": [
      "[[ 24  30  19]\n",
      " [ 80  98  63]\n",
      " [108 132  85]]\n"
     ]
    }
   ],
   "source": [
    "# matrix multiplication\n",
    "from numpy import *\n",
    "m1= matrix('1 2 3; 5 6 7; 7 8 9')\n",
    "m2= matrix('5 6 7; 8 9 0; 1 2 4')\n",
    "m3= m1*m2\n",
    "print (m3)"
   ]
  },
  {
   "cell_type": "code",
   "execution_count": 35,
   "metadata": {},
   "outputs": [
    {
     "name": "stdout",
     "output_type": "stream",
     "text": [
      "11\n"
     ]
    }
   ],
   "source": [
    "#function \n",
    "def sum(x,y):\n",
    "    z=x+y\n",
    "    print(z)\n",
    "\n",
    "sum(5,6)"
   ]
  },
  {
   "cell_type": "code",
   "execution_count": 36,
   "metadata": {},
   "outputs": [],
   "source": [
    "# there is no pass by value and pass by reference functions in python"
   ]
  },
  {
   "cell_type": "code",
   "execution_count": 37,
   "metadata": {},
   "outputs": [
    {
     "name": "stdout",
     "output_type": "stream",
     "text": [
      "Even : 4 and Odd : 3\n"
     ]
    }
   ],
   "source": [
    "# WAP to count even and odd numbers in a list\n",
    "from math import *\n",
    "from numpy import *\n",
    "def count(lst):\n",
    "    even = 0\n",
    "    odd = 0\n",
    "    \n",
    "    for i in lst:\n",
    "        if i%2==0:\n",
    "            even+= 1\n",
    "        else: \n",
    "            odd+= 1\n",
    "    return even,odd\n",
    "    \n",
    "lst=[12,24,33,55,22,77,88]\n",
    "even, odd = count(lst)\n",
    "print(\"Even : {} and Odd : {}\".format(even,odd))\n"
   ]
  },
  {
   "cell_type": "code",
   "execution_count": 40,
   "metadata": {},
   "outputs": [
    {
     "name": "stdout",
     "output_type": "stream",
     "text": [
      "The expected series is:\n",
      "0\n",
      "1\n",
      "1\n",
      "2\n",
      "3\n",
      "5\n",
      "8\n",
      "13\n",
      "21\n",
      "34\n"
     ]
    }
   ],
   "source": [
    "# WAP to print fibonacci series\n",
    "\n",
    "def fib(n):\n",
    "    a=0\n",
    "    b=1\n",
    "    print(a)\n",
    "    print(b)\n",
    "    \n",
    "    for i in range(n-2):\n",
    "        c=a+b\n",
    "        a=b\n",
    "        b=c\n",
    "        print(c)\n",
    "\n",
    "print(\"The expected series is:\")\n",
    "fib(10)"
   ]
  },
  {
   "cell_type": "code",
   "execution_count": 42,
   "metadata": {},
   "outputs": [
    {
     "name": "stdout",
     "output_type": "stream",
     "text": [
      "the required factorial is 24\n"
     ]
    }
   ],
   "source": [
    "# WAP to print a factorial number\n",
    "\n",
    "def fact(n):\n",
    "    f=1\n",
    "    for i in range(1,n+1):\n",
    "        f=f*i\n",
    "    return f\n",
    "result= fact(4)\n",
    "print(\"the required factorial is\",result)"
   ]
  },
  {
   "cell_type": "code",
   "execution_count": 43,
   "metadata": {},
   "outputs": [],
   "source": [
    "# Recursion limit in python is 1000 times and in jupyter is 3000."
   ]
  },
  {
   "cell_type": "code",
   "execution_count": 44,
   "metadata": {},
   "outputs": [
    {
     "name": "stdout",
     "output_type": "stream",
     "text": [
      "3000\n"
     ]
    }
   ],
   "source": [
    "# WAP to check any function limit in python.\n",
    "\n",
    "import sys\n",
    "print(sys.getrecursionlimit())"
   ]
  },
  {
   "cell_type": "code",
   "execution_count": 45,
   "metadata": {},
   "outputs": [
    {
     "name": "stdout",
     "output_type": "stream",
     "text": [
      "4000\n"
     ]
    }
   ],
   "source": [
    "# WAP to set fuction limit in python.\n",
    "import sys\n",
    "sys.setrecursionlimit(4000)\n",
    "print(sys.getrecursionlimit())\n"
   ]
  },
  {
   "cell_type": "code",
   "execution_count": 52,
   "metadata": {},
   "outputs": [
    {
     "name": "stdout",
     "output_type": "stream",
     "text": [
      "The multiplication table of 2 is\n",
      "2 * 1 = 2\n",
      "2 * 2 = 4\n",
      "2 * 3 = 6\n",
      "2 * 4 = 8\n",
      "2 * 5 = 10\n",
      "2 * 6 = 12\n",
      "2 * 7 = 14\n",
      "2 * 8 = 16\n",
      "2 * 9 = 18\n",
      "2 * 10 = 20\n"
     ]
    }
   ],
   "source": [
    "# Anonymous function(Lambda)\n",
    "# WAP to print table of 2 using lambda function in python\n",
    "f= lambda a,b: a*b\n",
    "print(\"The multiplication table of 2 is\")\n",
    "for i in range(1,11):\n",
    "    result= f(2,i)\n",
    "    print(\"2 *\",i,\"=\",result)"
   ]
  },
  {
   "cell_type": "code",
   "execution_count": 53,
   "metadata": {},
   "outputs": [
    {
     "name": "stdout",
     "output_type": "stream",
     "text": [
      "[2, 6, 8, 40, 20, 44, 28]\n"
     ]
    }
   ],
   "source": [
    "# WAP to filter even set of numbers from the given list in python.\n",
    "\n",
    "nums=[2,3,1,6,8,7,9,40,20,33,45,44,37,28]\n",
    "evens= list(filter(lambda n : n%2==0, nums))\n",
    "\n",
    "print(evens)"
   ]
  },
  {
   "cell_type": "code",
   "execution_count": 54,
   "metadata": {},
   "outputs": [
    {
     "name": "stdout",
     "output_type": "stream",
     "text": [
      "[2, 6, 8, 40, 20, 44, 28]\n",
      "[4, 12, 16, 80, 40, 88, 56]\n"
     ]
    }
   ],
   "source": [
    "# WAP to filter and mapping double of even set of numbers from the given list in python.\n",
    "\n",
    "nums=[2,3,1,6,8,7,9,40,20,33,45,44,37,28]\n",
    "evens= list(filter(lambda n : n%2==0, nums))\n",
    "doubles= list(map(lambda n : n*2, evens ))\n",
    "print(evens)\n",
    "print(doubles)"
   ]
  },
  {
   "cell_type": "code",
   "execution_count": 56,
   "metadata": {},
   "outputs": [
    {
     "name": "stdout",
     "output_type": "stream",
     "text": [
      "[2, 6, 8, 40, 20, 44, 28]\n",
      "[4, 12, 16, 80, 40, 88, 56]\n",
      "296\n"
     ]
    }
   ],
   "source": [
    "# WAP to filter, mapping and reduce double of even set of numbers from the given list in python.\n",
    "from functools import reduce\n",
    "nums=[2,3,1,6,8,7,9,40,20,33,45,44,37,28]\n",
    "evens= list(filter(lambda n : n%2==0, nums))\n",
    "doubles= list(map(lambda n : n*2, evens ))\n",
    "print(evens)\n",
    "print(doubles)\n",
    "sum= reduce(lambda  a,b : a+b, doubles)\n",
    "print(sum)"
   ]
  },
  {
   "cell_type": "code",
   "execution_count": 58,
   "metadata": {},
   "outputs": [
    {
     "name": "stdout",
     "output_type": "stream",
     "text": [
      "2.0\n"
     ]
    }
   ],
   "source": [
    "# decorators in python\n",
    " \n",
    "def div(a,b):\n",
    "    print(a/b)\n",
    "    \n",
    "def smart_div(func):\n",
    "    def inner(a,b):\n",
    "        if a<b:\n",
    "            a,b=b,a\n",
    "        return func(a,b)\n",
    "    return inner\n",
    "div1=smart_div(div)\n",
    "div1(2,4)"
   ]
  },
  {
   "cell_type": "code",
   "execution_count": null,
   "metadata": {},
   "outputs": [],
   "source": []
  }
 ],
 "metadata": {
  "kernelspec": {
   "display_name": "Python 3",
   "language": "python",
   "name": "python3"
  },
  "language_info": {
   "codemirror_mode": {
    "name": "ipython",
    "version": 3
   },
   "file_extension": ".py",
   "mimetype": "text/x-python",
   "name": "python",
   "nbconvert_exporter": "python",
   "pygments_lexer": "ipython3",
   "version": "3.7.6"
  }
 },
 "nbformat": 4,
 "nbformat_minor": 4
}
